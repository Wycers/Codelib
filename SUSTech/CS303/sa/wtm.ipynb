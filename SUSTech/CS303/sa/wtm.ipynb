{
 "nbformat": 4,
 "nbformat_minor": 2,
 "metadata": {
  "language_info": {
   "name": "python",
   "codemirror_mode": {
    "name": "ipython",
    "version": 3
   },
   "version": "3.7.5"
  },
  "orig_nbformat": 2,
  "file_extension": ".py",
  "mimetype": "text/x-python",
  "name": "python",
  "npconvert_exporter": "python",
  "pygments_lexer": "ipython3",
  "version": 3,
  "kernelspec": {
   "name": "python3",
   "language": "python",
   "display_name": "Python 3"
  }
 },
 "cells": [
  {
   "cell_type": "code",
   "execution_count": 9,
   "outputs": [],
   "source": [
    "import json\n",
    "from sklearn.naive_bayes import MultinomialNB\n",
    "from sklearn.metrics import roc_auc_score\n",
    "from sklearn.linear_model import LogisticRegression\n",
    "from sklearn.naive_bayes import GaussianNB\n",
    "from sklearn.neighbors import KNeighborsClassifier\n",
    "from sklearn import svm\n",
    "from sklearn.tree import DecisionTreeClassifier\n",
    "from sklearn.ensemble import RandomForestClassifier\n"
   ],
   "metadata": {
    "collapsed": false,
    "pycharm": {
     "name": "#%%\n"
    }
   }
  },
  {
   "cell_type": "code",
   "execution_count": 10,
   "outputs": [],
   "source": [
    "# Load data\n",
    "with open(\"train.json\") as f:\n",
    "    txt = f.read()\n",
    "    train_data = json.loads(txt)\n",
    "# Load test data\n",
    "with open(\"test.json\") as f:\n",
    "    txt = f.read()\n",
    "    test_data = json.loads(txt)"
   ],
   "metadata": {
    "collapsed": false,
    "pycharm": {
     "name": "#%%\n"
    }
   }
  },
  {
   "cell_type": "code",
   "execution_count": 37,
   "outputs": [
    {
     "name": "stdout",
     "output_type": "stream",
     "text": [
      "0.9792439325915805\n",
      "22429 25000 0.89716\n"
     ]
    }
   ],
   "source": [
    "from sklearn.model_selection import train_test_split\n",
    "x_train, x_test, y_train, y_test = train_test_split(\n",
    "    [x['review'] for x in train_data],\n",
    "    [x['sentiment'] for x in train_data],\n",
    "    random_state=5,\n",
    "    test_size=0.01\n",
    ")\n",
    "\n",
    "#使用TF-IDF进行文本转向量处理\n",
    "from sklearn.feature_extraction.text import TfidfVectorizer\n",
    "tv = TfidfVectorizer(max_features=15000, ngram_range=(1,3))\n",
    "tv.fit(x_train)\n",
    "\n",
    "classifier = LogisticRegression()\n",
    "classifier.fit(tv.transform(x_train), y_train)\n",
    "classifier.score(tv.transform(x_test), y_test)\n",
    "\n",
    "y_pred = classifier.predict_proba(tv.transform(x_test))[:,1]\n",
    "print(roc_auc_score(y_test,y_pred))\n",
    "\n",
    "cnt = 0\n",
    "for item in test_data:\n",
    "    # print(ite\n",
    "    res = classifier.predict_proba(tv.transform([item['review']]))[0]\n",
    "    if res[0] > res[1]:\n",
    "        res = 0\n",
    "    else:\n",
    "        res = 1\n",
    "    if res == item['sentiment']:\n",
    "        cnt += 1\n",
    "print(cnt, len(test_data), cnt / len(test_data))\n"
   ],
   "metadata": {
    "collapsed": false,
    "pycharm": {
     "name": "#%%\n"
    }
   }
  }
 ]
}