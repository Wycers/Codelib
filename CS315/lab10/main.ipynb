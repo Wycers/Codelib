{
 "cells": [
  {
   "cell_type": "markdown",
   "source": [
    "use Crypto library to generate two big prime number (512 bits)"
   ],
   "metadata": {
    "collapsed": false,
    "pycharm": {
     "name": "#%% md\n"
    }
   }
  },
  {
   "cell_type": "code",
   "execution_count": 44,
   "outputs": [],
   "source": [
    "from Cryptodome.Util import number\n",
    "\n",
    "n_length = 512\n",
    "\n",
    "p = number.getPrime(n_length)\n",
    "q = number.getPrime(n_length)\n",
    "\n",
    "n = p * q\n",
    "phi_n = (p - 1) * (q - 1)"
   ],
   "metadata": {
    "collapsed": false,
    "pycharm": {
     "name": "#%%\n"
    }
   }
  },
  {
   "cell_type": "markdown",
   "source": [
    "find a number `e` that $1<e<\\varphi(n)$ and $gcd( \\varphi (n),e) = 1$ as a part of public key."
   ],
   "metadata": {
    "collapsed": false,
    "pycharm": {
     "name": "#%% md\n"
    }
   }
  },
  {
   "cell_type": "code",
   "execution_count": 45,
   "outputs": [
    {
     "name": "stdout",
     "output_type": "stream",
     "text": [
      "34147124941354239932744469664518003846542069677905631193751465240454772051071551223331106258466732179065827454179678318123177701455257686425709898899598209017301080749672799557750388259306375669933579699176391168061294855625647701805698333772769243851923286855507493707103806201812013751130299649916031277607\n"
     ]
    }
   ],
   "source": [
    "e = 2\n",
    "while True:\n",
    "    e = number.getRandomRange(2, phi_n)\n",
    "    if number.GCD(e, phi_n) == 1:\n",
    "        break\n",
    "print(e)"
   ],
   "metadata": {
    "collapsed": false,
    "pycharm": {
     "name": "#%%\n"
    }
   }
  },
  {
   "cell_type": "markdown",
   "source": [
    "find a number `d` that $ed \\equiv gcd( \\varphi (n),e) \\mod \\varphi (n)$ or $ed \\equiv 1\\mod \\varphi (n)$.\n",
    "\n",
    "use exgcd method to solve equation $ed + k \\varphi(n) = 1$\n",
    "\n",
    "d is a part of private key.\n",
    "\n",
    "\n",
    "public key: (n, e)\n",
    "private key: (n, d)"
   ],
   "metadata": {
    "collapsed": false,
    "pycharm": {
     "name": "#%% md\n"
    }
   }
  },
  {
   "cell_type": "code",
   "execution_count": 46,
   "outputs": [
    {
     "name": "stdout",
     "output_type": "stream",
     "text": [
      "22202740070900825661240784140061220079232257358528526214220583718563425172735961247636143401565617118255645914366475268905949841544050336623687543356140070748064113315096765697139813183687283783166857865065771256859659713333615389235555549662247574903320124481486599454751928621758730249540674948876714636183\n"
     ]
    }
   ],
   "source": [
    "def exgcd(a, b):\n",
    "    if a == 0:\n",
    "        return b, 0, 1\n",
    "    else:\n",
    "        g, x, y = exgcd(b % a, a)\n",
    "        return g, y - (b // a) * x, x\n",
    "\n",
    "_, d, _ = exgcd(e, phi_n)\n",
    "d = abs(d)\n",
    "\n",
    "print(d)"
   ],
   "metadata": {
    "collapsed": false,
    "pycharm": {
     "name": "#%%\n"
    }
   }
  },
  {
   "cell_type": "markdown",
   "source": [
    "convert str `M` to hex, then to int."
   ],
   "metadata": {
    "collapsed": false,
    "pycharm": {
     "name": "#%% md\n"
    }
   }
  },
  {
   "cell_type": "code",
   "execution_count": 47,
   "outputs": [
    {
     "name": "stdout",
     "output_type": "stream",
     "text": [
      "102076019900887746094658623\n"
     ]
    }
   ],
   "source": [
    "M = \"Top secret?\"\n",
    "\n",
    "m_hex = M.encode().hex()\n",
    "m = int(m_hex, 16)\n",
    "print(m)"
   ],
   "metadata": {
    "collapsed": false,
    "pycharm": {
     "name": "#%%\n"
    }
   }
  },
  {
   "cell_type": "markdown",
   "source": [
    "calculate $c = m^d \\mod n$"
   ],
   "metadata": {
    "collapsed": false,
    "pycharm": {
     "name": "#%% md\n"
    }
   }
  },
  {
   "cell_type": "code",
   "execution_count": 48,
   "outputs": [
    {
     "name": "stdout",
     "output_type": "stream",
     "text": [
      "33445738306313427667969456734837185600130574784236451630427208058705235963885427077798805487167465413023955642468009407046518610617139586906631424376689612213080144462917845422780575355330871582914837535592857084975549239254271158631582886535586792919293673416170759038019334894401837145631120699332406060211\n"
     ]
    }
   ],
   "source": [
    "def QuickPower(a, n, p): # 快速幂算法\n",
    "    tmp = a\n",
    "    ret = 1\n",
    "    while n > 0:\n",
    "        if n&1:\n",
    "            ret = (ret * tmp) % p\n",
    "        tmp = (tmp * tmp) % p\n",
    "        n>>=1\n",
    "    return ret\n",
    "\n",
    "c = QuickPower(m, e, n)\n",
    "print(c)"
   ],
   "metadata": {
    "collapsed": false,
    "pycharm": {
     "name": "#%%\n"
    }
   }
  },
  {
   "cell_type": "markdown",
   "source": [
    "calculate $m' = c^e \\mod n$"
   ],
   "metadata": {
    "collapsed": false,
    "pycharm": {
     "name": "#%% md\n"
    }
   }
  },
  {
   "cell_type": "code",
   "execution_count": 50,
   "outputs": [
    {
     "name": "stdout",
     "output_type": "stream",
     "text": [
      "Top secret?\n"
     ]
    }
   ],
   "source": [
    "m_ = QuickPower(c, d, n)\n",
    "\n",
    "m_ = m_.to_bytes(n_length,byteorder='little').decode()\n",
    "print(m_.strip(\"\\0\")[::-1])\n"
   ],
   "metadata": {
    "collapsed": false,
    "pycharm": {
     "name": "#%%\n"
    }
   }
  },
  {
   "cell_type": "markdown",
   "source": [
    "sign a message, use private key to encrypt the message."
   ],
   "metadata": {
    "collapsed": false,
    "pycharm": {
     "name": "#%% md\n"
    }
   }
  },
  {
   "cell_type": "code",
   "execution_count": 52,
   "outputs": [
    {
     "name": "stdout",
     "output_type": "stream",
     "text": [
      "55152997352602290499360851433496056157501653270435849601561918070440077364490798120664785216313998667354217314351440167709774241395593293479490792365203656176030354413261454019652478667358725264016337552959624789367087772756093318067488639628946492394909958947267947941939397131526962127528222366532554944516\n"
     ]
    }
   ],
   "source": [
    "S = QuickPower(m, d, n)\n",
    "print(S)"
   ],
   "metadata": {
    "collapsed": false,
    "pycharm": {
     "name": "#%%\n"
    }
   }
  },
  {
   "cell_type": "markdown",
   "source": [
    "verify a signature, use corresponding public key to decrypt the signature and compare it with plain text."
   ],
   "metadata": {
    "collapsed": false,
    "pycharm": {
     "name": "#%% md\n"
    }
   }
  },
  {
   "cell_type": "code",
   "source": [
    "if QuickPower(S, e, n) == m:\n",
    "    print(\"valid\")"
   ],
   "metadata": {
    "collapsed": false,
    "pycharm": {
     "name": "#%%\n"
    }
   },
   "execution_count": 53,
   "outputs": [
    {
     "name": "stdout",
     "output_type": "stream",
     "text": [
      "valid\n"
     ]
    }
   ]
  }
 ],
 "metadata": {
  "kernelspec": {
   "name": "python3",
   "language": "python",
   "display_name": "Python 3"
  },
  "language_info": {
   "codemirror_mode": {
    "name": "ipython",
    "version": 2
   },
   "file_extension": ".py",
   "mimetype": "text/x-python",
   "name": "python",
   "nbconvert_exporter": "python",
   "pygments_lexer": "ipython2",
   "version": "2.7.6"
  }
 },
 "nbformat": 4,
 "nbformat_minor": 0
}